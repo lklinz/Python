{
 "cells": [
  {
   "cell_type": "markdown",
   "metadata": {},
   "source": []
  },
  {
   "cell_type": "code",
   "execution_count": 19,
   "metadata": {},
   "outputs": [
    {
     "name": "stdout",
     "output_type": "stream",
     "text": [
      "[1, 2, 3, 4, 5]\n"
     ]
    }
   ],
   "source": [
    "''' Bubble sort'''\n",
    "test_list = [5,3,4,2,1]\n",
    "def improved_bubble_sort(test_list,asc = True):\n",
    "    if asc: #ascending\n",
    "        for checking_time in range(len(test_list)):\n",
    "            flag = True\n",
    "            for num in range(len(test_list)-checking_time-1):\n",
    "                if test_list[num] > test_list[num+1]:\n",
    "                    test_list.insert(num,test_list[num+1])\n",
    "                    test_list.pop(num+2)\n",
    "                    flag = False\n",
    "            if flag:\n",
    "                break\n",
    "    else: #descending\n",
    "        for checking_time in range(len(test_list)):\n",
    "            flag = True\n",
    "            for num in range(len(test_list)-checking_time-1):\n",
    "                if test_list[num] < test_list[num+1]:\n",
    "                    test_list.insert(num,test_list[num+1])\n",
    "                    test_list.pop(num+2)\n",
    "                    flag = False\n",
    "            if flag:\n",
    "                break\n",
    "\n",
    "improved_bubble_sort(test_list)\n",
    "print(test_list)"
   ]
  },
  {
   "cell_type": "code",
   "execution_count": 17,
   "metadata": {},
   "outputs": [
    {
     "name": "stdout",
     "output_type": "stream",
     "text": [
      "[1, 2, 3, 4, 5]\n"
     ]
    }
   ],
   "source": [
    "''' Insertion sort'''\n",
    "\n",
    "test_list = [5,3,4,2,1]\n",
    "def insertion_sort(test_list,asc = True):\n",
    "    if asc: #ascending\n",
    "        for checking_num in range(1,len(test_list)):\n",
    "            while checking_num > 0 and test_list[checking_num-1]>test_list[checking_num]:\n",
    "                test_list.insert(checking_num-1,test_list[checking_num])\n",
    "                test_list.pop(checking_num+1)\n",
    "                checking_num -= 1\n",
    "\n",
    "    else: #descending\n",
    "        for checking_num in range(1,len(test_list)):\n",
    "            while checking_num > 0 and test_list[checking_num-1]<test_list[checking_num]:\n",
    "                test_list.insert(checking_num-1,test_list[checking_num])\n",
    "                test_list.pop(checking_num+1)\n",
    "                checking_num -= 1\n",
    "    \n",
    "insertion_sort(test_list)\n",
    "print(test_list)\n"
   ]
  },
  {
   "cell_type": "code",
   "execution_count": 18,
   "metadata": {},
   "outputs": [
    {
     "name": "stdout",
     "output_type": "stream",
     "text": [
      "[5, 4, 3, 2, 1]\n"
     ]
    }
   ],
   "source": [
    "''' Selection sort'''\n",
    "\n",
    "test_list = [5,3,4,2,1]\n",
    "def selection_sort(test_list,asc = True):\n",
    "    if asc: #ascending\n",
    "        for checking_number in range(len(test_list)):\n",
    "            current_min = test_list[checking_number]\n",
    "            for num in range(checking_number+1,len(test_list)):\n",
    "                if test_list[num] < current_min:\n",
    "                    current_min = test_list[num]\n",
    "            if current_min != test_list[checking_number]:\n",
    "                test_list.remove(current_min)\n",
    "                test_list.insert(checking_number,current_min)\n",
    "                \n",
    "    else: #descending\n",
    "        for checking_number in range(len(test_list)):\n",
    "            current_max = test_list[checking_number]\n",
    "            for num in range(checking_number+1,len(test_list)):\n",
    "                if test_list[num] > current_max:\n",
    "                    current_max = test_list[num]\n",
    "            if current_max != test_list[checking_number]:\n",
    "                test_list.remove(current_max)\n",
    "                test_list.insert(checking_number,current_max)\n",
    "        \n",
    "selection_sort(test_list,False)\n",
    "print(test_list)"
   ]
  }
 ],
 "metadata": {
  "kernelspec": {
   "display_name": "Python 3",
   "language": "python",
   "name": "python3"
  },
  "language_info": {
   "codemirror_mode": {
    "name": "ipython",
    "version": 3
   },
   "file_extension": ".py",
   "mimetype": "text/x-python",
   "name": "python",
   "nbconvert_exporter": "python",
   "pygments_lexer": "ipython3",
   "version": "3.12.1"
  }
 },
 "nbformat": 4,
 "nbformat_minor": 2
}
