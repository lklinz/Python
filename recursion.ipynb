{
 "cells": [
  {
   "cell_type": "markdown",
   "metadata": {},
   "source": [
    "SET base dictionary 1: 1, 2:2,3:4,4:8\n",
    "\n",
    "IF length in base dictionary:\n",
    "\n",
    "        RETURN value base dictionary at key n\n",
    "\n",
    "ELSE:\n",
    "\n",
    "        FIND tiles_arranging =  calling the function at (n-1) + calling the function at (n-2)\n",
    "\n",
    "        ADD key-value pair (n:tiles_arranging) to base dictionary\n",
    "    \n",
    "        RETURN tiles_arranging\n",
    "    "
   ]
  },
  {
   "cell_type": "code",
   "execution_count": 1,
   "metadata": {},
   "outputs": [
    {
     "name": "stdout",
     "output_type": "stream",
     "text": [
      "100808458960497\n"
     ]
    }
   ],
   "source": [
    "base_dict = {\n",
    "        1:1,\n",
    "        2:2,\n",
    "        3:4,\n",
    "        4:8\n",
    "    }\n",
    "def colored_blocks(n):\n",
    "    global base_dict \n",
    "    if n in base_dict:\n",
    "        return base_dict[n]\n",
    "    else:\n",
    "        tiles_arranging = colored_blocks(n-1) + colored_blocks(n-2) + colored_blocks(n-3) + colored_blocks(n-4)\n",
    "        base_dict[n] = tiles_arranging\n",
    "        return tiles_arranging\n",
    "print(colored_blocks(50))"
   ]
  },
  {
   "cell_type": "markdown",
   "metadata": {},
   "source": [
    "SET base dictionary (1,1):1,(2,1):1,(3,1):1,(4,1):1,(5,1):1,(6,1):1,(7,1):1,(8,1):1,(9,1):1,(10,1):1,(2,2):1,(3,3):1,(4,4):1,(5,5):1\n",
    "\n",
    "IF n < k:\n",
    "        \n",
    "        RETURN False\n",
    "\n",
    "ELSE:\n",
    "        \n",
    "        IF key (n,k) in base dictionary:\n",
    "\n",
    "                RETURN base dictionary[(n,k)]\n",
    "\n",
    "        ELSE:\n",
    "\n",
    "                CALCULATE base dictionary[n,k] = sterling2(n-1,k-1) + k* sterling2(n-1,k)\n",
    "                \n",
    "                RETURN base dictionary[n,k]\n",
    "                \n",
    "        ENDIF\n",
    "ENDIF\n"
   ]
  },
  {
   "cell_type": "code",
   "execution_count": 2,
   "metadata": {},
   "outputs": [
    {
     "data": {
      "text/plain": [
       "42525"
      ]
     },
     "execution_count": 2,
     "metadata": {},
     "output_type": "execute_result"
    }
   ],
   "source": [
    "known = {(1,1):1,\n",
    "        (2,1):1,\n",
    "        (3,1):1,\n",
    "        (4,1):1,\n",
    "        (5,1):1,\n",
    "        (6,1):1,\n",
    "        (7,1):1,\n",
    "        (8,1):1,\n",
    "        (9,1):1,\n",
    "        (10,1):1,\n",
    "        (2,2):1,\n",
    "        (3,3):1,\n",
    "        (4,4):1,\n",
    "        (5,5):1}\n",
    "def sterling2(n,k):\n",
    "    if n<k:\n",
    "        return False\n",
    "    else:\n",
    "        if (n,k) in known:\n",
    "            return known[(n,k)]\n",
    "        else:\n",
    "            known[(n,k)] = sterling2(n-1,k-1) + k*sterling2(n-1,k)\n",
    "            return known[(n,k)]\n",
    "sterling2(10,5)"
   ]
  }
 ],
 "metadata": {
  "kernelspec": {
   "display_name": "Python 3",
   "language": "python",
   "name": "python3"
  },
  "language_info": {
   "codemirror_mode": {
    "name": "ipython",
    "version": 3
   },
   "file_extension": ".py",
   "mimetype": "text/x-python",
   "name": "python",
   "nbconvert_exporter": "python",
   "pygments_lexer": "ipython3",
   "version": "3.10.13"
  }
 },
 "nbformat": 4,
 "nbformat_minor": 2
}
