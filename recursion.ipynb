{
 "cells": [
  {
   "cell_type": "markdown",
   "metadata": {},
   "source": [
    "SET base dictionary 1: 1, 2:2,3:4,4:8\n",
    "IF length in base dictionary:\n",
    "    RETURN value base dictionary at key n\n",
    "ELSE:\n",
    "    FIND tiles_arranging =  calling the function at (n-1) + calling the function at (n-2)\n",
    "    ADD key-value pair (n:tiles_arranging) to base dictionary\n",
    "    RETURN tiles_arranging\n",
    "    "
   ]
  },
  {
   "cell_type": "code",
   "execution_count": 8,
   "metadata": {},
   "outputs": [
    {
     "name": "stdout",
     "output_type": "stream",
     "text": [
      "100808458960497\n"
     ]
    }
   ],
   "source": [
    "base_dict = {\n",
    "        1:1,\n",
    "        2:2,\n",
    "        3:4,\n",
    "        4:8\n",
    "    }\n",
    "def colored_blocks(n):\n",
    "    global base_dict \n",
    "    if n in base_dict:\n",
    "        return base_dict[n]\n",
    "    else:\n",
    "        tiles_arranging = colored_blocks(n-1) + colored_blocks(n-2) + colored_blocks(n-3) + colored_blocks(n-4)\n",
    "        base_dict[n] = tiles_arranging\n",
    "        return tiles_arranging\n",
    "print(colored_blocks(50))"
   ]
  }
 ],
 "metadata": {
  "kernelspec": {
   "display_name": "Python 3",
   "language": "python",
   "name": "python3"
  },
  "language_info": {
   "codemirror_mode": {
    "name": "ipython",
    "version": 3
   },
   "file_extension": ".py",
   "mimetype": "text/x-python",
   "name": "python",
   "nbconvert_exporter": "python",
   "pygments_lexer": "ipython3",
   "version": "3.10.13"
  }
 },
 "nbformat": 4,
 "nbformat_minor": 2
}
