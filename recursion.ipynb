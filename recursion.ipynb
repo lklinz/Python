{
 "cells": [
  {
   "cell_type": "markdown",
   "metadata": {},
   "source": [
    "### RECURSION I\n"
   ]
  },
  {
   "cell_type": "markdown",
   "metadata": {},
   "source": [
    "SET base dictionary 1: 1, 2:2,3:4,4:8\n",
    "\n",
    "IF length in base dictionary:\n",
    "\n",
    "        RETURN value base dictionary at key n\n",
    "\n",
    "ELSE:\n",
    "\n",
    "        FIND tiles_arranging =  calling the function at (n-1) + calling the function at (n-2)\n",
    "\n",
    "        ADD key-value pair (n:tiles_arranging) to base dictionary\n",
    "    \n",
    "        RETURN tiles_arranging\n",
    "    "
   ]
  },
  {
   "cell_type": "code",
   "execution_count": 1,
   "metadata": {},
   "outputs": [
    {
     "name": "stdout",
     "output_type": "stream",
     "text": [
      "100808458960497\n"
     ]
    }
   ],
   "source": [
    "base_dict = {\n",
    "        1:1,\n",
    "        2:2,\n",
    "        3:4,\n",
    "        4:8\n",
    "    }\n",
    "def colored_blocks(n):\n",
    "    global base_dict \n",
    "    if n in base_dict:\n",
    "        return base_dict[n]\n",
    "    else:\n",
    "        tiles_arranging = colored_blocks(n-1) + colored_blocks(n-2) + colored_blocks(n-3) + colored_blocks(n-4)\n",
    "        base_dict[n] = tiles_arranging\n",
    "        return tiles_arranging\n",
    "print(colored_blocks(50))"
   ]
  },
  {
   "cell_type": "markdown",
   "metadata": {},
   "source": [
    "SET base dictionary (1,1):1,(2,1):1,(3,1):1,(4,1):1,(5,1):1,(6,1):1,(7,1):1,(8,1):1,(9,1):1,(10,1):1,(2,2):1,(3,3):1,(4,4):1,(5,5):1\n",
    "\n",
    "IF n < k:\n",
    "        \n",
    "        RETURN False\n",
    "\n",
    "ELSE:\n",
    "        \n",
    "        IF key (n,k) in base dictionary:\n",
    "\n",
    "                RETURN base dictionary[(n,k)]\n",
    "\n",
    "        ELSE:\n",
    "\n",
    "                CALCULATE base dictionary[n,k] = sterling2(n-1,k-1) + k* sterling2(n-1,k)\n",
    "                \n",
    "                RETURN base dictionary[n,k]\n",
    "                \n",
    "        ENDIF\n",
    "ENDIF\n"
   ]
  },
  {
   "cell_type": "code",
   "execution_count": 2,
   "metadata": {},
   "outputs": [
    {
     "data": {
      "text/plain": [
       "42525"
      ]
     },
     "execution_count": 2,
     "metadata": {},
     "output_type": "execute_result"
    }
   ],
   "source": [
    "known = {(1,1):1,\n",
    "        (2,1):1,\n",
    "        (3,1):1,\n",
    "        (4,1):1,\n",
    "        (5,1):1,\n",
    "        (6,1):1,\n",
    "        (7,1):1,\n",
    "        (8,1):1,\n",
    "        (9,1):1,\n",
    "        (10,1):1,\n",
    "        (2,2):1,\n",
    "        (3,3):1,\n",
    "        (4,4):1,\n",
    "        (5,5):1}\n",
    "def sterling2(n,k):\n",
    "    if n<k:\n",
    "        return False\n",
    "    else:\n",
    "        if (n,k) in known:\n",
    "            return known[(n,k)]\n",
    "        else:\n",
    "            known[(n,k)] = sterling2(n-1,k-1) + k*sterling2(n-1,k)\n",
    "            return known[(n,k)]\n",
    "sterling2(10,5)"
   ]
  },
  {
   "cell_type": "markdown",
   "metadata": {},
   "source": [
    "### RECURSION II"
   ]
  },
  {
   "cell_type": "code",
   "execution_count": 3,
   "metadata": {},
   "outputs": [],
   "source": [
    "def merge(array_one,array_two):\n",
    "    temporary_array = []\n",
    "    while len(array_one) > 0 or len(array_two) >0:\n",
    "        if array_one[0] > array_two[0]:\n",
    "            temporary_array.append(array_two[0])\n",
    "            array_two.remove(array_two[0])\n",
    "        else:\n",
    "            temporary_array.append(array_one[0])\n",
    "            array_one.remove(array_one[0])\n",
    "    while len(array_one) > 0: \n",
    "        temporary_array.append(array_one[0])\n",
    "        array_one.remove(array_one[0])\n",
    "    while len(array_two) > 0:\n",
    "        temporary_array.append(array_two[0])\n",
    "        array_two.remove(array_two[0])  \n",
    "    return temporary_array"
   ]
  },
  {
   "cell_type": "code",
   "execution_count": 5,
   "metadata": {},
   "outputs": [
    {
     "ename": "IndexError",
     "evalue": "list index out of range",
     "output_type": "error",
     "traceback": [
      "\u001b[0;31m---------------------------------------------------------------------------\u001b[0m",
      "\u001b[0;31mIndexError\u001b[0m                                Traceback (most recent call last)",
      "Cell \u001b[0;32mIn[5], line 15\u001b[0m\n\u001b[1;32m     12\u001b[0m     array2 \u001b[38;5;241m=\u001b[39m mergesort(array2)\n\u001b[1;32m     14\u001b[0m     \u001b[38;5;28;01mreturn\u001b[39;00m merge(array1,array2)\n\u001b[0;32m---> 15\u001b[0m \u001b[43mmergesort\u001b[49m\u001b[43m(\u001b[49m\u001b[43m[\u001b[49m\u001b[38;5;241;43m6\u001b[39;49m\u001b[43m,\u001b[49m\u001b[43m \u001b[49m\u001b[38;5;241;43m5\u001b[39;49m\u001b[43m,\u001b[49m\u001b[43m \u001b[49m\u001b[38;5;241;43m5\u001b[39;49m\u001b[43m,\u001b[49m\u001b[43m \u001b[49m\u001b[38;5;241;43m7\u001b[39;49m\u001b[43m,\u001b[49m\u001b[43m \u001b[49m\u001b[38;5;241;43m4\u001b[39;49m\u001b[43m,\u001b[49m\u001b[43m \u001b[49m\u001b[38;5;241;43m8\u001b[39;49m\u001b[43m,\u001b[49m\u001b[43m \u001b[49m\u001b[38;5;241;43m3\u001b[39;49m\u001b[43m,\u001b[49m\u001b[43m \u001b[49m\u001b[38;5;241;43m5\u001b[39;49m\u001b[43m,\u001b[49m\u001b[43m \u001b[49m\u001b[38;5;241;43m1\u001b[39;49m\u001b[43m,\u001b[49m\u001b[43m \u001b[49m\u001b[38;5;241;43m2\u001b[39;49m\u001b[43m,\u001b[49m\u001b[43m \u001b[49m\u001b[38;5;241;43m9\u001b[39;49m\u001b[43m]\u001b[49m\u001b[43m)\u001b[49m\n",
      "Cell \u001b[0;32mIn[5], line 11\u001b[0m, in \u001b[0;36mmergesort\u001b[0;34m(array)\u001b[0m\n\u001b[1;32m      9\u001b[0m     \u001b[38;5;28;01melse\u001b[39;00m:\n\u001b[1;32m     10\u001b[0m         array2\u001b[38;5;241m.\u001b[39mappend(num)\n\u001b[0;32m---> 11\u001b[0m array1 \u001b[38;5;241m=\u001b[39m \u001b[43mmergesort\u001b[49m\u001b[43m(\u001b[49m\u001b[43marray1\u001b[49m\u001b[43m)\u001b[49m\n\u001b[1;32m     12\u001b[0m array2 \u001b[38;5;241m=\u001b[39m mergesort(array2)\n\u001b[1;32m     14\u001b[0m \u001b[38;5;28;01mreturn\u001b[39;00m merge(array1,array2)\n",
      "Cell \u001b[0;32mIn[5], line 11\u001b[0m, in \u001b[0;36mmergesort\u001b[0;34m(array)\u001b[0m\n\u001b[1;32m      9\u001b[0m     \u001b[38;5;28;01melse\u001b[39;00m:\n\u001b[1;32m     10\u001b[0m         array2\u001b[38;5;241m.\u001b[39mappend(num)\n\u001b[0;32m---> 11\u001b[0m array1 \u001b[38;5;241m=\u001b[39m \u001b[43mmergesort\u001b[49m\u001b[43m(\u001b[49m\u001b[43marray1\u001b[49m\u001b[43m)\u001b[49m\n\u001b[1;32m     12\u001b[0m array2 \u001b[38;5;241m=\u001b[39m mergesort(array2)\n\u001b[1;32m     14\u001b[0m \u001b[38;5;28;01mreturn\u001b[39;00m merge(array1,array2)\n",
      "Cell \u001b[0;32mIn[5], line 11\u001b[0m, in \u001b[0;36mmergesort\u001b[0;34m(array)\u001b[0m\n\u001b[1;32m      9\u001b[0m     \u001b[38;5;28;01melse\u001b[39;00m:\n\u001b[1;32m     10\u001b[0m         array2\u001b[38;5;241m.\u001b[39mappend(num)\n\u001b[0;32m---> 11\u001b[0m array1 \u001b[38;5;241m=\u001b[39m \u001b[43mmergesort\u001b[49m\u001b[43m(\u001b[49m\u001b[43marray1\u001b[49m\u001b[43m)\u001b[49m\n\u001b[1;32m     12\u001b[0m array2 \u001b[38;5;241m=\u001b[39m mergesort(array2)\n\u001b[1;32m     14\u001b[0m \u001b[38;5;28;01mreturn\u001b[39;00m merge(array1,array2)\n",
      "Cell \u001b[0;32mIn[5], line 14\u001b[0m, in \u001b[0;36mmergesort\u001b[0;34m(array)\u001b[0m\n\u001b[1;32m     11\u001b[0m array1 \u001b[38;5;241m=\u001b[39m mergesort(array1)\n\u001b[1;32m     12\u001b[0m array2 \u001b[38;5;241m=\u001b[39m mergesort(array2)\n\u001b[0;32m---> 14\u001b[0m \u001b[38;5;28;01mreturn\u001b[39;00m \u001b[43mmerge\u001b[49m\u001b[43m(\u001b[49m\u001b[43marray1\u001b[49m\u001b[43m,\u001b[49m\u001b[43marray2\u001b[49m\u001b[43m)\u001b[49m\n",
      "Cell \u001b[0;32mIn[3], line 4\u001b[0m, in \u001b[0;36mmerge\u001b[0;34m(array_one, array_two)\u001b[0m\n\u001b[1;32m      2\u001b[0m temporary_array \u001b[38;5;241m=\u001b[39m []\n\u001b[1;32m      3\u001b[0m \u001b[38;5;28;01mwhile\u001b[39;00m \u001b[38;5;28mlen\u001b[39m(array_one) \u001b[38;5;241m>\u001b[39m \u001b[38;5;241m0\u001b[39m \u001b[38;5;129;01mor\u001b[39;00m \u001b[38;5;28mlen\u001b[39m(array_two) \u001b[38;5;241m>\u001b[39m\u001b[38;5;241m0\u001b[39m:\n\u001b[0;32m----> 4\u001b[0m     \u001b[38;5;28;01mif\u001b[39;00m \u001b[43marray_one\u001b[49m\u001b[43m[\u001b[49m\u001b[38;5;241;43m0\u001b[39;49m\u001b[43m]\u001b[49m \u001b[38;5;241m>\u001b[39m array_two[\u001b[38;5;241m0\u001b[39m]:\n\u001b[1;32m      5\u001b[0m         temporary_array\u001b[38;5;241m.\u001b[39mappend(array_two[\u001b[38;5;241m0\u001b[39m])\n\u001b[1;32m      6\u001b[0m         array_two\u001b[38;5;241m.\u001b[39mremove(array_two[\u001b[38;5;241m0\u001b[39m])\n",
      "\u001b[0;31mIndexError\u001b[0m: list index out of range"
     ]
    }
   ],
   "source": [
    "def mergesort(array):\n",
    "    if len(array) == 1:\n",
    "        return array\n",
    "    array1 = []\n",
    "    array2 = []\n",
    "    for num in range(len(array)):\n",
    "        if num < len(array)/2:\n",
    "            array1.append(num)\n",
    "        else:\n",
    "            array2.append(num)\n",
    "    array1 = mergesort(array1)\n",
    "    array2 = mergesort(array2)\n",
    "\n",
    "    return merge(array1,array2)\n",
    "mergesort([6, 5, 5, 7, 4, 8, 3, 5, 1, 2, 9])\n"
   ]
  }
 ],
 "metadata": {
  "kernelspec": {
   "display_name": "Python 3",
   "language": "python",
   "name": "python3"
  },
  "language_info": {
   "codemirror_mode": {
    "name": "ipython",
    "version": 3
   },
   "file_extension": ".py",
   "mimetype": "text/x-python",
   "name": "python",
   "nbconvert_exporter": "python",
   "pygments_lexer": "ipython3",
   "version": "3.10.13"
  }
 },
 "nbformat": 4,
 "nbformat_minor": 2
}
