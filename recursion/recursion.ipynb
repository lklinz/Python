{
 "cells": [
  {
   "cell_type": "markdown",
   "metadata": {},
   "source": [
    "### RECURSION I\n"
   ]
  },
  {
   "cell_type": "markdown",
   "metadata": {},
   "source": [
    "SET base dictionary 1: 1, 2:2,3:4,4:8\n",
    "\n",
    "IF length in base dictionary:\n",
    "\n",
    "        RETURN value base dictionary at key n\n",
    "\n",
    "ELSE:\n",
    "\n",
    "        FIND tiles_arranging =  calling the function at (n-1) + calling the function at (n-2)\n",
    "\n",
    "        ADD key-value pair (n:tiles_arranging) to base dictionary\n",
    "    \n",
    "        RETURN tiles_arranging\n",
    "    "
   ]
  },
  {
   "cell_type": "code",
   "execution_count": 1,
   "metadata": {},
   "outputs": [
    {
     "name": "stdout",
     "output_type": "stream",
     "text": [
      "100808458960497\n"
     ]
    }
   ],
   "source": [
    "base_dict = {\n",
    "        1:1,\n",
    "        2:2,\n",
    "        3:4,\n",
    "        4:8\n",
    "    }\n",
    "def colored_blocks(n):\n",
    "    global base_dict \n",
    "    if n in base_dict:\n",
    "        return base_dict[n]\n",
    "    else:\n",
    "        tiles_arranging = colored_blocks(n-1) + colored_blocks(n-2) + colored_blocks(n-3) + colored_blocks(n-4)\n",
    "        base_dict[n] = tiles_arranging\n",
    "        return tiles_arranging\n",
    "print(colored_blocks(50))"
   ]
  },
  {
   "cell_type": "markdown",
   "metadata": {},
   "source": [
    "SET base dictionary (1,1):1,(2,1):1,(3,1):1,(4,1):1,(5,1):1,(6,1):1,(7,1):1,(8,1):1,(9,1):1,(10,1):1,(2,2):1,(3,3):1,(4,4):1,(5,5):1\n",
    "\n",
    "IF n < k:\n",
    "        \n",
    "        RETURN False\n",
    "\n",
    "ELSE:\n",
    "        \n",
    "        IF key (n,k) in base dictionary:\n",
    "\n",
    "                RETURN base dictionary[(n,k)]\n",
    "\n",
    "        ELSE:\n",
    "\n",
    "                CALCULATE base dictionary[n,k] = sterling2(n-1,k-1) + k* sterling2(n-1,k)\n",
    "                \n",
    "                RETURN base dictionary[n,k]\n",
    "                \n",
    "        ENDIF\n",
    "ENDIF\n"
   ]
  },
  {
   "cell_type": "code",
   "execution_count": 2,
   "metadata": {},
   "outputs": [
    {
     "data": {
      "text/plain": [
       "42525"
      ]
     },
     "execution_count": 2,
     "metadata": {},
     "output_type": "execute_result"
    }
   ],
   "source": [
    "known = {(1,1):1,\n",
    "        (2,1):1,\n",
    "        (3,1):1,\n",
    "        (4,1):1,\n",
    "        (5,1):1,\n",
    "        (6,1):1,\n",
    "        (7,1):1,\n",
    "        (8,1):1,\n",
    "        (9,1):1,\n",
    "        (10,1):1,\n",
    "        (2,2):1,\n",
    "        (3,3):1,\n",
    "        (4,4):1,\n",
    "        (5,5):1}\n",
    "def sterling2(n,k):\n",
    "    if n<k:\n",
    "        return False\n",
    "    else:\n",
    "        if (n,k) in known:\n",
    "            return known[(n,k)]\n",
    "        else:\n",
    "            known[(n,k)] = sterling2(n-1,k-1) + k*sterling2(n-1,k)\n",
    "            return known[(n,k)]\n",
    "sterling2(10,5)"
   ]
  },
  {
   "cell_type": "markdown",
   "metadata": {},
   "source": [
    "### RECURSION II"
   ]
  },
  {
   "cell_type": "code",
   "execution_count": 2,
   "metadata": {},
   "outputs": [
    {
     "data": {
      "text/plain": [
       "[1, 2, 3, 4, 5, 5, 5, 6, 7, 8, 9]"
      ]
     },
     "execution_count": 2,
     "metadata": {},
     "output_type": "execute_result"
    }
   ],
   "source": [
    "def merge(array_one,array_two):\n",
    "\n",
    "    tempo_array = []\n",
    "    flag1 = flag2 = 0\n",
    "\n",
    "    while len(array_one) > flag1 and len(array_two) > flag2:\n",
    "        if array_one[flag1] > array_two[flag2]:\n",
    "            tempo_array.append(array_two[flag2])\n",
    "            flag2 += 1\n",
    "        else:\n",
    "            tempo_array.append(array_one[flag1])\n",
    "            flag1 += 1\n",
    "\n",
    "    tempo_array.extend(array_one[flag1:])\n",
    "    tempo_array.extend(array_two[flag2:])\n",
    "\n",
    "    return tempo_array\n",
    "\n",
    "\n",
    "def mergesort(array):\n",
    "\n",
    "    if len(array) == 1:\n",
    "        return array\n",
    "    mid = len(array) //2\n",
    "    array1 = array[:mid]\n",
    "    array2 = array[mid:]\n",
    "\n",
    "\n",
    "\n",
    "    array1 = mergesort(array1)\n",
    "    array2 = mergesort(array2)\n",
    "    return merge(array1,array2)\n",
    "\n",
    "mergesort([6, 5, 5, 7, 4, 8, 3, 5, 1, 2, 9])\n"
   ]
  },
  {
   "cell_type": "markdown",
   "metadata": {},
   "source": [
    "Input: unsorted array\n",
    "\n",
    "Output: ascending sorted array\n",
    "\n",
    "SET an array of sorted number\n",
    "\n",
    "INITIALIZE maximum number\n",
    "\n",
    "FOR number in array:\n",
    "\n",
    "        IF number > maximum:\n",
    "\n",
    "            CHANGE maximum to number\n",
    "\n",
    "        ENDIF\n",
    "\n",
    "ENDFOR\n",
    "\n",
    "COUNT maximum's appearing time in array\n",
    "\n",
    "FOR i in range appearing time:\n",
    "\n",
    "        REMOVE maximum from array\n",
    "\n",
    "        INSERT maximum to the end of sorted array\n",
    "\n",
    "ENDFOR\n",
    "\n",
    "WHILE array's length > 0:\n",
    "\n",
    "        SORT the array again\n",
    "\n",
    "ENDWHILE\n",
    "\n",
    "PRINT array of sorted number\n"
   ]
  },
  {
   "cell_type": "code",
   "execution_count": 3,
   "metadata": {},
   "outputs": [
    {
     "name": "stdout",
     "output_type": "stream",
     "text": [
      "[1, 2, 3, 4, 5, 5, 5, 6, 7, 8, 9]\n"
     ]
    }
   ],
   "source": [
    "sorted_array = []\n",
    "def selection_recursive(array):\n",
    "\n",
    "    max_flag = array[0]\n",
    "    for num in array:\n",
    "        if num > max_flag:\n",
    "            max_flag = num\n",
    "\n",
    "    add = array.count(max_flag)\n",
    "    for i in range(add):\n",
    "        array.remove(max_flag)\n",
    "        sorted_array.insert(0,max_flag)\n",
    "\n",
    "    while len(array) != 0:\n",
    "        return selection_recursive(array)\n",
    "    print(sorted_array)\n",
    "\n",
    "selection_recursive([6, 5, 5, 7, 4, 8, 3, 5, 1, 2, 9])    "
   ]
  }
 ],
 "metadata": {
  "kernelspec": {
   "display_name": "Python 3",
   "language": "python",
   "name": "python3"
  },
  "language_info": {
   "codemirror_mode": {
    "name": "ipython",
    "version": 3
   },
   "file_extension": ".py",
   "mimetype": "text/x-python",
   "name": "python",
   "nbconvert_exporter": "python",
   "pygments_lexer": "ipython3",
   "version": "3.10.13"
  }
 },
 "nbformat": 4,
 "nbformat_minor": 2
}
