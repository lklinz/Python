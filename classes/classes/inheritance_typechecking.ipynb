{
 "cells": [
  {
   "cell_type": "code",
   "execution_count": 28,
   "metadata": {},
   "outputs": [],
   "source": [
    "class Point:\n",
    "    '''attribute x and y'''\n",
    "    def __init__(self, input_x = 0,input_y = 0):\n",
    "        if not isinstance(input_x, (int,float)):\n",
    "            raise TypeError(\"x must be integer or float\")\n",
    "        if not isinstance(input_y, (int,float)):\n",
    "            raise TypeError('y must be integer or float')\n",
    "        self.x = input_x\n",
    "        self.y = input_y\n",
    "    def __str__(self):\n",
    "        return f'({self.x},{self.y})'"
   ]
  },
  {
   "cell_type": "code",
   "execution_count": 47,
   "metadata": {},
   "outputs": [],
   "source": [
    "class Polygon:\n",
    "\n",
    "    '''attribute a list/set of at least 3 Point object'''\n",
    "\n",
    "    def __init__(self, list_of_corners = [Point(),Point(),Point()]):\n",
    "        if not isinstance(list_of_corners, (set,list)):\n",
    "            raise TypeError('list of corners is not a set/list')\n",
    "        for corner in list_of_corners:\n",
    "            if not isinstance(corner,Point):\n",
    "                raise TypeError('input corner is not a Point object')\n",
    "        if len(list_of_corners) < 3:\n",
    "            raise ValueError('list of corners must have at least 3 Point objects')\n",
    "        self.corners = list_of_corners\n",
    "    \n",
    "    def __str__(self):\n",
    "        corners_string = ''\n",
    "        for c in range(len(self.corners)):\n",
    "            corners_string += f'Corner {c+1} {self.corners[c]} '\n",
    "        return corners_string\n",
    "    \n",
    "    def _cendroid_(self):\n",
    "        sum_x = 0\n",
    "        sum_y = 0\n",
    "        for cor in self.corners:\n",
    "            sum_x += cor.x\n",
    "            sum_y += cor.y\n",
    "    \n",
    "        self.cendroid = Point(round(sum_x/len(self.corners),2),round(sum_y/len(self.corners),2))\n",
    "        print(f'The cendroid is {self.cendroid}')\n",
    "\n",
    "class Triangle(Polygon):\n",
    "\n",
    "    '''inherit Polygon'''\n",
    "    '''attribute a list of 3 Point objects'''\n",
    "\n",
    "    def __init__(self, list_of_corners = [Point(),Point(),Point()]):\n",
    "\n",
    "        if not isinstance(list_of_corners, (set,list)):\n",
    "            raise TypeError('list of corners is not a set/list')\n",
    "        for corner in list_of_corners:\n",
    "            if not isinstance(corner,Point):\n",
    "                raise TypeError('input corner is not a Point object')\n",
    "        if len(list_of_corners) != 3:\n",
    "            raise ValueError('list of corners must have 3 Point objects')\n",
    "        \n",
    "        self.corners = list_of_corners\n",
    "\n",
    "class Quadrilateral(Polygon):\n",
    "\n",
    "    '''inherit Polygon'''\n",
    "    '''attribute a list of 4 Point objects'''\n",
    "\n",
    "    def __init__(self, list_of_corners = [Point(),Point(),Point()]):\n",
    "\n",
    "        if not isinstance(list_of_corners, (set,list)):\n",
    "            raise TypeError('list of corners is not a set/list')\n",
    "        for corner in list_of_corners:\n",
    "            if not isinstance(corner,Point):\n",
    "                raise TypeError('input corner is not a Point object')\n",
    "        if len(list_of_corners) != 4:\n",
    "            raise ValueError('list of corners must have 4 Point objects')\n",
    "        \n",
    "        self.corners = list_of_corners"
   ]
  },
  {
   "cell_type": "code",
   "execution_count": 49,
   "metadata": {},
   "outputs": [
    {
     "ename": "TypeError",
     "evalue": "input corner is not a Point object",
     "output_type": "error",
     "traceback": [
      "\u001b[0;31m---------------------------------------------------------------------------\u001b[0m",
      "\u001b[0;31mTypeError\u001b[0m                                 Traceback (most recent call last)",
      "Cell \u001b[0;32mIn[49], line 4\u001b[0m\n\u001b[1;32m      1\u001b[0m \u001b[38;5;124;03m'''Test case 1'''\u001b[39;00m\n\u001b[1;32m      2\u001b[0m \u001b[38;5;66;03m# poly_fake1 = Polygon('string')\u001b[39;00m\n\u001b[1;32m      3\u001b[0m \u001b[38;5;66;03m# poly_fake2 = Polygon([Point(),Point()])\u001b[39;00m\n\u001b[0;32m----> 4\u001b[0m poly_fake3 \u001b[38;5;241m=\u001b[39m \u001b[43mPolygon\u001b[49m\u001b[43m(\u001b[49m\u001b[43m[\u001b[49m\u001b[43mPoint\u001b[49m\u001b[43m(\u001b[49m\u001b[43m)\u001b[49m\u001b[43m,\u001b[49m\u001b[43m \u001b[49m\u001b[43mPoint\u001b[49m\u001b[43m(\u001b[49m\u001b[43m)\u001b[49m\u001b[43m,\u001b[49m\u001b[43m \u001b[49m\u001b[38;5;124;43m'\u001b[39;49m\u001b[38;5;124;43ma\u001b[39;49m\u001b[38;5;124;43m'\u001b[39;49m\u001b[43m]\u001b[49m\u001b[43m)\u001b[49m\n",
      "Cell \u001b[0;32mIn[47], line 10\u001b[0m, in \u001b[0;36mPolygon.__init__\u001b[0;34m(self, list_of_corners)\u001b[0m\n\u001b[1;32m      8\u001b[0m \u001b[38;5;28;01mfor\u001b[39;00m corner \u001b[38;5;129;01min\u001b[39;00m list_of_corners:\n\u001b[1;32m      9\u001b[0m     \u001b[38;5;28;01mif\u001b[39;00m \u001b[38;5;129;01mnot\u001b[39;00m \u001b[38;5;28misinstance\u001b[39m(corner,Point):\n\u001b[0;32m---> 10\u001b[0m         \u001b[38;5;28;01mraise\u001b[39;00m \u001b[38;5;167;01mTypeError\u001b[39;00m(\u001b[38;5;124m'\u001b[39m\u001b[38;5;124minput corner is not a Point object\u001b[39m\u001b[38;5;124m'\u001b[39m)\n\u001b[1;32m     11\u001b[0m \u001b[38;5;28;01mif\u001b[39;00m \u001b[38;5;28mlen\u001b[39m(list_of_corners) \u001b[38;5;241m<\u001b[39m \u001b[38;5;241m3\u001b[39m:\n\u001b[1;32m     12\u001b[0m     \u001b[38;5;28;01mraise\u001b[39;00m \u001b[38;5;167;01mValueError\u001b[39;00m(\u001b[38;5;124m'\u001b[39m\u001b[38;5;124mlist of corners must have at least 3 Point objects\u001b[39m\u001b[38;5;124m'\u001b[39m)\n",
      "\u001b[0;31mTypeError\u001b[0m: input corner is not a Point object"
     ]
    }
   ],
   "source": [
    "'''Test case 1'''\n",
    "# poly_fake1 = Polygon('string')\n",
    "# poly_fake2 = Polygon([Point(),Point()])\n",
    "poly_fake3 = Polygon([Point(), Point(), 'a'])"
   ]
  },
  {
   "cell_type": "code",
   "execution_count": 42,
   "metadata": {},
   "outputs": [
    {
     "name": "stdout",
     "output_type": "stream",
     "text": [
      "Corner 1 (0,0) Corner 2 (0,1) Corner 3 (1,1) \n",
      "The cendroid is (0.33,0.67)\n"
     ]
    }
   ],
   "source": [
    "'''Test case 2'''\n",
    "test_triangle = Triangle([Point(), Point(0, 1), Point(1,1)])\n",
    "print(test_triangle)\n",
    "test_triangle._cendroid_()"
   ]
  },
  {
   "cell_type": "code",
   "execution_count": 46,
   "metadata": {},
   "outputs": [
    {
     "name": "stdout",
     "output_type": "stream",
     "text": [
      "Corner 1 (0,0) Corner 2 (0,1) Corner 3 (1,0) Corner 4 (1,1) \n",
      "The cendroid is (0.5,0.5)\n"
     ]
    }
   ],
   "source": [
    "'''Test case 3'''\n",
    "test_quadrilateral = Quadrilateral([Point(), Point(0, 1), Point(1,0), Point(1,1)])\n",
    "print(test_quadrilateral)\n",
    "test_quadrilateral._cendroid_()"
   ]
  }
 ],
 "metadata": {
  "kernelspec": {
   "display_name": "Python 3",
   "language": "python",
   "name": "python3"
  },
  "language_info": {
   "codemirror_mode": {
    "name": "ipython",
    "version": 3
   },
   "file_extension": ".py",
   "mimetype": "text/x-python",
   "name": "python",
   "nbconvert_exporter": "python",
   "pygments_lexer": "ipython3",
   "version": "3.10.13"
  }
 },
 "nbformat": 4,
 "nbformat_minor": 2
}
