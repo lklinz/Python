{
 "cells": [
  {
   "cell_type": "code",
   "execution_count": 41,
   "metadata": {},
   "outputs": [],
   "source": [
    "import math\n",
    "class Point:\n",
    "    def __init__(self, input_x = 0, input_y = 0):\n",
    "        self.x = input_x\n",
    "        self.y = input_y\n",
    "\n",
    "    def __str__(self):\n",
    "        return f'({self.x}, {self.y})' \n",
    "        \n",
    "class Rectangle:\n",
    "    def __init__(self, input_point = Point(), input_width = 0,  input_height = 0):\n",
    "        self.corner = input_point\n",
    "        self.width = input_width\n",
    "        self.height = input_height\n",
    "\n",
    "    def __str__(self):\n",
    "        return f'Corner: {self.corner}, Width: {self.width}, Height: {self.height}'\n",
    "    \n",
    "    def get_center_Point(self):\n",
    "        '''\n",
    "\n",
    "        :param self: Rectangle object\n",
    "        :return: Point object specifying center of Rectangle\n",
    "        '''\n",
    "\n",
    "        center_x = self.corner.x + self.width / 2\n",
    "        center_y = self.corner.y + self.height / 2\n",
    "        return Point(center_x, center_y)\n",
    "    \n",
    "    def _get_area_(self):\n",
    "        self.area = self.height * self.width\n",
    "        return self.area\n",
    "    \n",
    "    def __lt__(self,other):\n",
    "        if self._get_area_() < other._get_area_():\n",
    "            return True\n",
    "        else:\n",
    "            return False\n",
    "    \n",
    "    def _to_circle_(self):\n",
    "        input_circle = Circle()\n",
    "        input_circle.center = self.get_center_Point()\n",
    "        input_circle.radius = round(math.sqrt((self._get_area_())/(math.pi)),2)\n",
    "        print(input_circle)\n",
    "    \n",
    "class Circle:\n",
    "    def __init__(self, input_center = Point(),input_radius = 0):\n",
    "        self.center = input_center\n",
    "        self.radius = input_radius\n",
    "        \n",
    "    def __str__(self):\n",
    "        return f'Center: {self.center}, Radius: {self.radius}'\n",
    "        \n",
    "    def _get_area_(self):\n",
    "        self.area = (self.radius)**2 * math.pi\n",
    "        return self.area\n",
    "\n",
    "    def _to_square(self):\n",
    "        input_square = Rectangle()\n",
    "        input_square.width = input_square.height = round(math.sqrt(self._get_area_()),2)\n",
    "        input_square.corner = round(self.center.x - input_square.width/2,2),round(self.center.y - input_square.height/2,2)\n",
    "        print(input_square)"
   ]
  },
  {
   "cell_type": "code",
   "execution_count": 43,
   "metadata": {},
   "outputs": [
    {
     "name": "stdout",
     "output_type": "stream",
     "text": [
      "<__main__.Circle object at 0x7f70a0133190>\n"
     ]
    }
   ],
   "source": [
    "rect = Rectangle(Point(),2,2)\n",
    "cir = rect._to_circle_()"
   ]
  },
  {
   "cell_type": "code",
   "execution_count": 27,
   "metadata": {},
   "outputs": [
    {
     "name": "stdout",
     "output_type": "stream",
     "text": [
      "Corner: (-0.89, -0.89), Width: 1.77, Height: 1.77\n"
     ]
    }
   ],
   "source": [
    "cir1 = Circle(Point(),1)\n",
    "ha = cir1._to_square()\n"
   ]
  }
 ],
 "metadata": {
  "kernelspec": {
   "display_name": "Python 3",
   "language": "python",
   "name": "python3"
  },
  "language_info": {
   "codemirror_mode": {
    "name": "ipython",
    "version": 3
   },
   "file_extension": ".py",
   "mimetype": "text/x-python",
   "name": "python",
   "nbconvert_exporter": "python",
   "pygments_lexer": "ipython3",
   "version": "3.10.13"
  }
 },
 "nbformat": 4,
 "nbformat_minor": 2
}
