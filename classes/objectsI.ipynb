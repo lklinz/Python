{
 "cells": [
  {
   "cell_type": "code",
   "execution_count": 2,
   "metadata": {},
   "outputs": [],
   "source": [
    "class Point:\n",
    "    '''\n",
    "    Represents a point in 2D space\n",
    "\n",
    "    attributes: x, y\n",
    "    '''\n",
    "\n",
    "\n",
    "# One purpose of classes is to bundle together (encapsulate) related data so it can be\n",
    "# reused in other classes/functions.\n",
    "class Rectangle:\n",
    "    '''\n",
    "    Represents a rectangle with lower left corner at corner.\n",
    "\n",
    "    attributes: corner (Point object), height (float), width (float)\n",
    "    '''\n",
    "\n",
    "class Circle:\n",
    "    '''\n",
    "    Represents a circle with a center and radius\n",
    "    \n",
    "    attribute: center(Point object), radius (float)\n",
    "    '''"
   ]
  },
  {
   "cell_type": "code",
   "execution_count": 3,
   "metadata": {},
   "outputs": [],
   "source": [
    "def get_corners(inputRectangle):\n",
    "\n",
    "    list_of_corners = []\n",
    "    corner1 = Point()\n",
    "    corner1.x = inputRectangle.corner.x \n",
    "    corner1.y = inputRectangle.corner.y\n",
    "\n",
    "    corner2 = Point()\n",
    "    corner2.x = inputRectangle.corner.x + inputRectangle.width\n",
    "    corner2.y = inputRectangle.corner.y\n",
    "\n",
    "    corner3 = Point()\n",
    "    corner3.x = inputRectangle.corner.x\n",
    "    corner3.y = inputRectangle.corner.y + inputRectangle.height\n",
    "\n",
    "    corner4 = Point()\n",
    "    corner4.x = inputRectangle.width\n",
    "    corner4.y = inputRectangle.height\n",
    "\n",
    "    list_of_corners += (corner1.x,corner1.y),(corner2.x,corner2.y),(corner3.x,corner3.y),(corner4.x,corner4.y)\n",
    "    return list_of_corners"
   ]
  },
  {
   "cell_type": "code",
   "execution_count": 5,
   "metadata": {},
   "outputs": [],
   "source": [
    "import math\n",
    "def distance(inputPoint1,inputPoint2):\n",
    "    \n",
    "    point1 = Point()\n",
    "    point1.x = inputPoint1.x\n",
    "    point1.y = inputPoint1.y\n",
    "\n",
    "    point2 = Point()\n",
    "    point2.x = inputPoint2.x\n",
    "    point2.y = inputPoint2.y\n",
    "\n",
    "    distance = math.sqrt((point2.x-point1.x)**2 + (point2.y-point1.y)**2)\n",
    "\n",
    "    return distance"
   ]
  },
  {
   "cell_type": "code",
   "execution_count": 22,
   "metadata": {},
   "outputs": [],
   "source": [
    "def point_in_circle(inputCircle,inputPoint):\n",
    "\n",
    "    test_point = Point()\n",
    "    test_point.x = inputPoint.x\n",
    "    test_point.y = inputPoint.y\n",
    "\n",
    "    center_point = Point()\n",
    "    center_point.x = inputCircle.x\n",
    "    center_point.y = inputCircle.y\n",
    "\n",
    "    circle = Circle()\n",
    "    circle.radius = inputCircle.radius\n",
    "\n",
    "    if distance(test_point,center_point) <= circle.radius:\n",
    "        return True\n",
    "    else:\n",
    "        return False"
   ]
  },
  {
   "cell_type": "code",
   "execution_count": 37,
   "metadata": {},
   "outputs": [],
   "source": [
    "cir = Circle()\n",
    "center = Point()\n",
    "center.x = 1\n",
    "center.y = 2\n",
    "cir.x = center.x\n",
    "cir.y = center.y\n",
    "cir.radius = 1\n",
    "\n",
    "rec = Rectangle()\n",
    "p = Point()\n",
    "p.x = 1\n",
    "p.y = 2\n",
    "rec.corner = p\n",
    "rec.width = 4\n",
    "rec.height = 3\n",
    "\n",
    "list_of_corners = get_corners(rec)\n",
    "\n",
    "print(list_of_corners)\n",
    "\n",
    "# point_in_circle(cir,point1)"
   ]
  },
  {
   "cell_type": "code",
   "execution_count": 49,
   "metadata": {},
   "outputs": [
    {
     "name": "stdout",
     "output_type": "stream",
     "text": [
      "[(0, 0), (1, 0), (0, 1), (1, 1)]\n"
     ]
    }
   ],
   "source": [
    "cir2 = Circle()\n",
    "center2 = Point()\n",
    "center2.x = 1\n",
    "center2.y = 1\n",
    "cir2.x = center2.x\n",
    "cir2.y = center2.y\n",
    "cir2.radius = 5\n",
    "\n",
    "rec2 = Rectangle()\n",
    "p2 = Point()\n",
    "p2.x = 0\n",
    "p2.y = 0\n",
    "rec2.corner = p2\n",
    "rec2.width = 1\n",
    "rec2.height = 1\n",
    "\n",
    "list_of_corners = get_corners(rec2)\n",
    "\n",
    "print(list_of_corners)"
   ]
  },
  {
   "cell_type": "code",
   "execution_count": 52,
   "metadata": {},
   "outputs": [],
   "source": [
    "def rec_in_circle(inputCircle,inputRectangle):\n",
    "    list_of_corners = get_corners(inputRectangle)\n",
    "    flag = True\n",
    "    for corner in list_of_corners:\n",
    "        if flag == False:\n",
    "            break\n",
    "        c = Point()\n",
    "        c.x = corner[0]\n",
    "        c.y = corner[1]\n",
    "        if point_in_circle(inputCircle,c) == False:\n",
    "            flag = False   \n",
    "        else:\n",
    "            flag\n",
    "    return flag"
   ]
  },
  {
   "cell_type": "code",
   "execution_count": 53,
   "metadata": {},
   "outputs": [
    {
     "data": {
      "text/plain": [
       "False"
      ]
     },
     "execution_count": 53,
     "metadata": {},
     "output_type": "execute_result"
    }
   ],
   "source": [
    "rec_in_circle(cir,rec)"
   ]
  },
  {
   "cell_type": "code",
   "execution_count": 54,
   "metadata": {},
   "outputs": [
    {
     "data": {
      "text/plain": [
       "True"
      ]
     },
     "execution_count": 54,
     "metadata": {},
     "output_type": "execute_result"
    }
   ],
   "source": [
    "rec_in_circle(cir2,rec2)"
   ]
  }
 ],
 "metadata": {
  "kernelspec": {
   "display_name": "Python 3",
   "language": "python",
   "name": "python3"
  },
  "language_info": {
   "codemirror_mode": {
    "name": "ipython",
    "version": 3
   },
   "file_extension": ".py",
   "mimetype": "text/x-python",
   "name": "python",
   "nbconvert_exporter": "python",
   "pygments_lexer": "ipython3",
   "version": "3.10.13"
  }
 },
 "nbformat": 4,
 "nbformat_minor": 2
}
