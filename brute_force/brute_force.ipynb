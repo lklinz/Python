{
 "cells": [
  {
   "cell_type": "code",
   "execution_count": 16,
   "metadata": {},
   "outputs": [
    {
     "name": "stdout",
     "output_type": "stream",
     "text": [
      "[2, 3, 5, 7, 11, 13, 17, 19]\n"
     ]
    }
   ],
   "source": [
    "def prime_list(n):\n",
    "    primes_list = []\n",
    "    for number in range(2,n+1):\n",
    "        is_prime = True\n",
    "        for prime in primes_list:\n",
    "            if number % prime == 0:\n",
    "                is_prime = False\n",
    "                break\n",
    "        if is_prime:\n",
    "            primes_list.append(number)\n",
    "    print(primes_list)\n",
    "\n",
    "prime_list(19)\n"
   ]
  },
  {
   "cell_type": "code",
   "execution_count": 18,
   "metadata": {},
   "outputs": [
    {
     "name": "stdout",
     "output_type": "stream",
     "text": [
      "906609\n"
     ]
    }
   ],
   "source": [
    "def palindromic_product(n):\n",
    "    current_max_product = 0\n",
    "    for first_factor in range(10**(n-1),10**n):\n",
    "        for second_factor in range(first_factor,10**n):\n",
    "            product = first_factor * second_factor\n",
    "            if str(product)[:] == str(product)[::-1] and product > current_max_product:\n",
    "                current_max_product = product\n",
    "    print(current_max_product) \n",
    "\n",
    "palindromic_product(3)"
   ]
  }
 ],
 "metadata": {
  "kernelspec": {
   "display_name": "Python 3",
   "language": "python",
   "name": "python3"
  },
  "language_info": {
   "codemirror_mode": {
    "name": "ipython",
    "version": 3
   },
   "file_extension": ".py",
   "mimetype": "text/x-python",
   "name": "python",
   "nbconvert_exporter": "python",
   "pygments_lexer": "ipython3",
   "version": "3.10.13"
  }
 },
 "nbformat": 4,
 "nbformat_minor": 2
}
