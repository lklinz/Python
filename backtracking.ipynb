{
 "cells": [
  {
   "cell_type": "markdown",
   "metadata": {},
   "source": [
    "INITIALIZE list of found tilings\n",
    "\n",
    "IF sum of partial tilings equals to input length:\n",
    "\n",
    "        GLOBAL list of found tilings\n",
    "\n",
    "        APPEND found tilings to the list of found tilings\n",
    "\n",
    "ELSE:\n",
    "\n",
    "        FOR tile in range(1,length+1):\n",
    "\n",
    "                COPY partial tilings\n",
    "\n",
    "                APPEND tile to the copy\n",
    "\n",
    "                IF sum of the copy less or equal than input length:\n",
    "\n",
    "                                CALL the function for generating tilings\n",
    "                \n",
    "                ENDIF\n",
    "\n",
    "        ENDFOR\n",
    "\n",
    "ENDIF\n",
    "\n",
    "PRINT list of found tilings"
   ]
  },
  {
   "cell_type": "code",
   "execution_count": 1,
   "metadata": {},
   "outputs": [
    {
     "name": "stdout",
     "output_type": "stream",
     "text": [
      "Found tilings: [[1, 1, 1, 1], [1, 1, 2], [1, 2, 1], [1, 3], [2, 1, 1], [2, 2], [3, 1], [4]]\n"
     ]
    }
   ],
   "source": [
    "tilings = []\n",
    "\n",
    "def generate_tilings(partial_tiling, length):\n",
    "    \n",
    "    if sum(partial_tiling) == length:\n",
    "        global tilings\n",
    "        tilings.append(partial_tiling)\n",
    "    \n",
    "    else:\n",
    "\n",
    "        for tile in range(1,length+1):\n",
    "\n",
    "            partial_tiling_copy = partial_tiling.copy()\n",
    "            partial_tiling_copy.append(tile)\n",
    "            \n",
    "            if sum(partial_tiling_copy) <= length:\n",
    "                generate_tilings(partial_tiling_copy,length)\n",
    "            \n",
    "generate_tilings([],4)\n",
    "print('Found tilings:',tilings)\n",
    "\n"
   ]
  },
  {
   "cell_type": "markdown",
   "metadata": {},
   "source": [
    "INITIALIZE list of subset sum\n",
    "\n",
    "IF sum of partial sum equals to input target:\n",
    "\n",
    "        GLOBAL list of found subset sum\n",
    "\n",
    "        APPEND found subset sum to the list\n",
    "\n",
    "ELSE:\n",
    "\n",
    "        FOR int in remaining ints:\n",
    "\n",
    "                COPY partial sum\n",
    "\n",
    "                IF length of the copy equal to 0 or last int in the copy less than int:\n",
    "\n",
    "                        APPEND tile to the copy\n",
    "\n",
    "                        IF sum of the copy less or equal than input target:\n",
    "\n",
    "                                COPY the remaining ints\n",
    "\n",
    "                                REMOVE int from the copy of remaining ints\n",
    "\n",
    "                                CALL the function for find the subset sum\n",
    "                \n",
    "                ENDIF\n",
    "\n",
    "        ENDFOR\n",
    "\n",
    "ENDIF\n",
    "\n",
    "PRINT list of found subset sum"
   ]
  },
  {
   "cell_type": "code",
   "execution_count": 2,
   "metadata": {},
   "outputs": [
    {
     "name": "stdout",
     "output_type": "stream",
     "text": [
      "Sub Set Sum: [[1, 2, 3], [1, 5], [2, 4], [6]]\n"
     ]
    }
   ],
   "source": [
    "sub_set = []\n",
    "\n",
    "def subset_sum(partial_sum, remaining_ints, target):\n",
    "    if sum(partial_sum) == target:\n",
    "        global sub_set\n",
    "        sub_set.append(partial_sum)\n",
    "\n",
    "    else:\n",
    "\n",
    "        for int in remaining_ints:\n",
    "\n",
    "            partial_sum_copy = partial_sum.copy()\n",
    "\n",
    "            if len(partial_sum_copy) == 0 or partial_sum_copy[-1] < int:\n",
    "\n",
    "                partial_sum_copy.append(int)\n",
    "\n",
    "                if sum(partial_sum_copy) <= target: \n",
    "                    remaining_ints_copy = remaining_ints.copy()\n",
    "                    remaining_ints_copy.remove(int)\n",
    "                    subset_sum(partial_sum_copy,remaining_ints_copy,target)\n",
    "        \n",
    "subset_sum([], [1, 2, 3, 4, 5, 6, 7], 6)\n",
    "print('Sub Set Sum:',sub_set)\n"
   ]
  }
 ],
 "metadata": {
  "kernelspec": {
   "display_name": "Python 3",
   "language": "python",
   "name": "python3"
  },
  "language_info": {
   "codemirror_mode": {
    "name": "ipython",
    "version": 3
   },
   "file_extension": ".py",
   "mimetype": "text/x-python",
   "name": "python",
   "nbconvert_exporter": "python",
   "pygments_lexer": "ipython3",
   "version": "3.10.13"
  }
 },
 "nbformat": 4,
 "nbformat_minor": 2
}
