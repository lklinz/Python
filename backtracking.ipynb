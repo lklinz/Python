{
 "cells": [
  {
   "cell_type": "code",
   "execution_count": 3,
   "metadata": {},
   "outputs": [
    {
     "name": "stdout",
     "output_type": "stream",
     "text": [
      "Found tilings [[1, 1, 1, 1], [1, 1, 2], [1, 2, 1], [1, 3], [2, 1, 1], [2, 2], [3, 1], [4]]\n"
     ]
    }
   ],
   "source": [
    "tilings = []\n",
    "\n",
    "def generate_tilings(partial_tiling, length):\n",
    "    if sum(partial_tiling) == length:\n",
    "        global tilings\n",
    "        tilings.append(partial_tiling)\n",
    "    \n",
    "    elif sum(partial_tiling) > length:\n",
    "        return False\n",
    "\n",
    "    else:\n",
    "\n",
    "        for tile in range(1,length+1):\n",
    "\n",
    "            partial_tiling_copy = partial_tiling.copy()\n",
    "            partial_tiling_copy.append(tile)\n",
    "\n",
    "            generate_tilings(partial_tiling_copy,length)\n",
    "            \n",
    "generate_tilings([],4)\n",
    "print('Found tilings',tilings)\n",
    "\n"
   ]
  }
 ],
 "metadata": {
  "kernelspec": {
   "display_name": "Python 3",
   "language": "python",
   "name": "python3"
  },
  "language_info": {
   "codemirror_mode": {
    "name": "ipython",
    "version": 3
   },
   "file_extension": ".py",
   "mimetype": "text/x-python",
   "name": "python",
   "nbconvert_exporter": "python",
   "pygments_lexer": "ipython3",
   "version": "3.10.13"
  }
 },
 "nbformat": 4,
 "nbformat_minor": 2
}
